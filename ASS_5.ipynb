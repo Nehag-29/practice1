{
  "nbformat": 4,
  "nbformat_minor": 0,
  "metadata": {
    "colab": {
      "provenance": [],
      "authorship_tag": "ABX9TyMXuro07cS45UYDKAgNOwTo",
      "include_colab_link": true
    },
    "kernelspec": {
      "name": "python3",
      "display_name": "Python 3"
    },
    "language_info": {
      "name": "python"
    }
  },
  "cells": [
    {
      "cell_type": "markdown",
      "metadata": {
        "id": "view-in-github",
        "colab_type": "text"
      },
      "source": [
        "<a href=\"https://colab.research.google.com/github/Nehag-29/practice1/blob/main/ASS_5.ipynb\" target=\"_parent\"><img src=\"https://colab.research.google.com/assets/colab-badge.svg\" alt=\"Open In Colab\"/></a>"
      ]
    },
    {
      "cell_type": "code",
      "execution_count": 1,
      "metadata": {
        "colab": {
          "base_uri": "https://localhost:8080/"
        },
        "id": "zBTtP7PlW2nC",
        "outputId": "d86f221b-69cb-43d8-f76b-d0335f19d4e6"
      },
      "outputs": [
        {
          "output_type": "stream",
          "name": "stdout",
          "text": [
            "[3 2]\n"
          ]
        }
      ],
      "source": [
        "import numpy as np\n",
        "u=np.array([1,0])\n",
        "v=np.array([2,2])\n",
        "z=u+v\n",
        "print(z)"
      ]
    },
    {
      "cell_type": "code",
      "source": [
        "u=[1,0]\n",
        "v=[2,2]\n",
        "z=u+v\n",
        "print(z)"
      ],
      "metadata": {
        "colab": {
          "base_uri": "https://localhost:8080/"
        },
        "id": "ZW_X7ag3YDvm",
        "outputId": "aa682391-eb59-4026-99bb-77d272d940ea"
      },
      "execution_count": 2,
      "outputs": [
        {
          "output_type": "stream",
          "name": "stdout",
          "text": [
            "[1, 0, 2, 2]\n"
          ]
        }
      ]
    },
    {
      "cell_type": "code",
      "source": [
        "u=[1,0]\n",
        "v=[2,2]\n",
        "z=[]\n",
        "for n,m in zip(u,v):\n",
        "  z.append(n+m)\n",
        "print(z)"
      ],
      "metadata": {
        "colab": {
          "base_uri": "https://localhost:8080/"
        },
        "id": "ypJncuDiYTZ0",
        "outputId": "fb3157e0-f747-4b3f-da1e-4e1c88b9dd3f"
      },
      "execution_count": 3,
      "outputs": [
        {
          "output_type": "stream",
          "name": "stdout",
          "text": [
            "[3, 2]\n"
          ]
        }
      ]
    },
    {
      "cell_type": "code",
      "source": [
        "u=[1,0]\n",
        "v=[2,2]\n",
        "z=[]\n",
        "for n,m in zip(u,v):\n",
        "  z.append(n-m)\n",
        "print(z)"
      ],
      "metadata": {
        "colab": {
          "base_uri": "https://localhost:8080/"
        },
        "id": "aOwU_f29ZMA5",
        "outputId": "e38a5077-d1c8-4dbd-b084-bd0256121819"
      },
      "execution_count": 4,
      "outputs": [
        {
          "output_type": "stream",
          "name": "stdout",
          "text": [
            "[-1, -2]\n"
          ]
        }
      ]
    },
    {
      "cell_type": "code",
      "source": [
        "u=[1,0]\n",
        "v=[2,2]\n",
        "z=[]\n",
        "for n,m in zip(u,v):\n",
        "  z.append(n*m)\n",
        "print(z)"
      ],
      "metadata": {
        "colab": {
          "base_uri": "https://localhost:8080/"
        },
        "id": "IMoXbOIYZQjf",
        "outputId": "6d753619-b7a5-49c9-cdab-bac9d9a3f401"
      },
      "execution_count": 5,
      "outputs": [
        {
          "output_type": "stream",
          "name": "stdout",
          "text": [
            "[2, 0]\n"
          ]
        }
      ]
    },
    {
      "cell_type": "code",
      "source": [
        "y=np.array([1,2])\n",
        "z=2*y\n",
        "print(z)"
      ],
      "metadata": {
        "colab": {
          "base_uri": "https://localhost:8080/"
        },
        "id": "BcnTP32aaKME",
        "outputId": "8253db6b-c982-4f1c-db07-406838069525"
      },
      "execution_count": 6,
      "outputs": [
        {
          "output_type": "stream",
          "name": "stdout",
          "text": [
            "[2 4]\n"
          ]
        }
      ]
    },
    {
      "cell_type": "code",
      "source": [
        "y=[1,2]\n",
        "z=[]\n",
        "for n in y:\n",
        "  z.append(2*n)\n",
        "print(z)"
      ],
      "metadata": {
        "colab": {
          "base_uri": "https://localhost:8080/"
        },
        "id": "62mVlU-vaRBE",
        "outputId": "57704bdb-6260-4d96-d88d-e33293393633"
      },
      "execution_count": 7,
      "outputs": [
        {
          "output_type": "stream",
          "name": "stdout",
          "text": [
            "[2, 4]\n"
          ]
        }
      ]
    },
    {
      "cell_type": "code",
      "source": [
        "u=np.array([1,2])\n",
        "v=np.array([2,3])\n",
        "result=np.dot(u,v)\n",
        "print(result)"
      ],
      "metadata": {
        "colab": {
          "base_uri": "https://localhost:8080/"
        },
        "id": "4mVcj9TCadzQ",
        "outputId": "e50953fe-7e57-45c9-8b73-5df0d85c9844"
      },
      "execution_count": 8,
      "outputs": [
        {
          "output_type": "stream",
          "name": "stdout",
          "text": [
            "8\n"
          ]
        }
      ]
    },
    {
      "cell_type": "code",
      "source": [
        "u=np.array([1,2])\n",
        "v=np.array([2,3])\n",
        "result=np.cross(u,v)\n",
        "print(result)"
      ],
      "metadata": {
        "colab": {
          "base_uri": "https://localhost:8080/"
        },
        "id": "8aPsnBHXcC0V",
        "outputId": "6c910cf6-14d8-4bb3-f300-79ce724703e7"
      },
      "execution_count": 9,
      "outputs": [
        {
          "output_type": "stream",
          "name": "stdout",
          "text": [
            "-1\n"
          ]
        }
      ]
    },
    {
      "cell_type": "code",
      "source": [
        "a=np.array([1,2,3])\n",
        "a.mean()\n",
        "a.max()\n",
        "np.pi\n",
        "x=np.array([0,np.pi/2,np.pi])\n",
        "y=np.sin(x)\n",
        "print(x,y)"
      ],
      "metadata": {
        "colab": {
          "base_uri": "https://localhost:8080/"
        },
        "id": "nGh2ca2gd5rO",
        "outputId": "201c1d70-72d1-4ffa-f294-022353f51326"
      },
      "execution_count": 11,
      "outputs": [
        {
          "output_type": "stream",
          "name": "stdout",
          "text": [
            "[0.         1.57079633 3.14159265] [0.0000000e+00 1.0000000e+00 1.2246468e-16]\n"
          ]
        }
      ]
    },
    {
      "cell_type": "code",
      "source": [
        "np.linspace(2,-2,num=5)"
      ],
      "metadata": {
        "colab": {
          "base_uri": "https://localhost:8080/"
        },
        "id": "w4qcskgyfYf8",
        "outputId": "845ad32c-2389-4658-b8e6-ed67cbc9eb4c"
      },
      "execution_count": 12,
      "outputs": [
        {
          "output_type": "execute_result",
          "data": {
            "text/plain": [
              "array([ 2.,  1.,  0., -1., -2.])"
            ]
          },
          "metadata": {},
          "execution_count": 12
        }
      ]
    },
    {
      "cell_type": "code",
      "source": [
        "x=np.linspace(0,2*np.pi,100)\n",
        "y=np.sin(x)\n",
        "import matplotlib.pyplot as plt\n",
        "plt.plot(x,y)\n",
        "plt.xlabel(\"x\")\n",
        "plt.ylabel(\"y\")\n",
        "plt.title(\"sine wave\")\n",
        "plt.legend()\n",
        "plt.show()"
      ],
      "metadata": {
        "colab": {
          "base_uri": "https://localhost:8080/",
          "height": 544
        },
        "id": "MJrlzHb-fxD-",
        "outputId": "6651ca73-96a4-43c9-8984-75966410619d"
      },
      "execution_count": 15,
      "outputs": [
        {
          "output_type": "stream",
          "name": "stderr",
          "text": [
            "<ipython-input-15-7080598567f5>:8: UserWarning: No artists with labels found to put in legend.  Note that artists whose label start with an underscore are ignored when legend() is called with no argument.\n",
            "  plt.legend()\n"
          ]
        },
        {
          "output_type": "execute_result",
          "data": {
            "text/plain": [
              "<matplotlib.legend.Legend at 0x7d8aefcbc890>"
            ]
          },
          "metadata": {},
          "execution_count": 15
        },
        {
          "output_type": "display_data",
          "data": {
            "text/plain": [
              "<Figure size 640x480 with 1 Axes>"
            ],
            "image/png": "[encoded data removed]"
          },
          "metadata": {}
        }
      ]
    },
    {
      "cell_type": "code",
      "source": [
        "a=[[1,2,3],[4,5,6],[7,8,9]]\n",
        "A=np.array(a)\n",
        "print(A)\n"
      ],
      "metadata": {
        "colab": {
          "base_uri": "https://localhost:8080/"
        },
        "id": "oPl51i7Vhp5V",
        "outputId": "eb877cb6-1bed-4c8b-968e-1369db85ddaa"
      },
      "execution_count": 17,
      "outputs": [
        {
          "output_type": "stream",
          "name": "stdout",
          "text": [
            "[[1 2 3]\n",
            " [4 5 6]\n",
            " [7 8 9]]\n"
          ]
        }
      ]
    },
    {
      "cell_type": "markdown",
      "source": [
        "ASSIGNMENT-5"
      ],
      "metadata": {
        "id": "fifpA2MpjW0N"
      }
    },
    {
      "cell_type": "code",
      "source": [
        "import numpy as np\n",
        "gfg=np.matrix('[4,1,9;12,13,1;4,5,6]')\n",
        "total_sum=np.sum(gfg)\n",
        "row_sum=np.sum(gfg,axis=1)\n",
        "col_sum=np.sum(gfg,axis=0)\n",
        "print(total_sum)\n",
        "print(row_sum)\n",
        "print(col_sum)"
      ],
      "metadata": {
        "colab": {
          "base_uri": "https://localhost:8080/"
        },
        "id": "esWjdMyzjb3I",
        "outputId": "9ee2a8f4-8dd4-422a-8fb4-edb066d86773"
      },
      "execution_count": 19,
      "outputs": [
        {
          "output_type": "stream",
          "name": "stdout",
          "text": [
            "55\n",
            "[[14]\n",
            " [26]\n",
            " [15]]\n",
            "[[20 19 16]]\n"
          ]
        }
      ]
    },
    {
      "cell_type": "code",
      "source": [
        "array=np.array([10,52,62,16,16,54,453])\n",
        "sorted_array=np.sort(array)\n",
        "print(sorted_array)\n",
        "sorted_indices=np.argsort(array)\n",
        "print(sorted_indices)\n",
        "smallest_4=np.sort(array)[:4]\n",
        "print(smallest_4)\n",
        "largest_5=np.sort(array)[-5:]\n",
        "print(largest_5)"
      ],
      "metadata": {
        "colab": {
          "base_uri": "https://localhost:8080/"
        },
        "id": "atJHfUSwkkd5",
        "outputId": "60ea891f-33db-4a66-8b95-5eb8bab6799e"
      },
      "execution_count": 27,
      "outputs": [
        {
          "output_type": "stream",
          "name": "stdout",
          "text": [
            "[ 10  16  16  52  54  62 453]\n",
            "[0 3 4 1 5 2 6]\n",
            "[10 16 16 52]\n",
            "[ 16  52  54  62 453]\n"
          ]
        }
      ]
    },
    {
      "cell_type": "code",
      "source": [
        "array = np.array([1.0, 1.2, 2.2, 2.0, 3.0, 2.0])\n",
        "intezer_elements=array[array==array.astype(int)]\n",
        "float_elements=array[array!=array.astype(int)]\n",
        "print(intezer_elements)\n",
        "print(float_elements)"
      ],
      "metadata": {
        "colab": {
          "base_uri": "https://localhost:8080/"
        },
        "id": "wxVmZ-irm5zs",
        "outputId": "d568e500-6276-4bfb-8749-6a9ef28eaa2d"
      },
      "execution_count": 28,
      "outputs": [
        {
          "output_type": "stream",
          "name": "stdout",
          "text": [
            "[1. 2. 3. 2.]\n",
            "[1.2 2.2]\n"
          ]
        }
      ]
    },
    {
      "cell_type": "code",
      "source": [
        " import numpy as np\n",
        " first_initial='A'\n",
        " last_initial='B'\n",
        " x=ord(first_initial)+ord(last_initial)\n",
        " sales=np.array([x,x+50,x+100,x+150,x+200])\n",
        " print(\"sales data:\",sales)\n",
        " tax_rate=((x%5)+5)/100\n",
        " tax_amount=sales*tax_rate\n",
        " print(\"tax amount on sales:\",tax_amount)\n",
        " discounted_sales=np.where(sales <x+100 ,sales*0.95,sales*0.90)\n",
        " print(\"discounted sales\",discounted_sales)\n",
        " weekly_sales=np.tile(sales,(3,1))\n",
        " growth_factor=np.array([1.00,1.02,1.04]).reshape(3,1)\n",
        " adjusted_sales=weekly_sales*growth_factor\n",
        " print(adjusted_sales)"
      ],
      "metadata": {
        "colab": {
          "base_uri": "https://localhost:8080/"
        },
        "id": "UlBDQWh7mCt3",
        "outputId": "f7d257d6-5365-4b1b-d4ac-2e0f27b1d839"
      },
      "execution_count": 2,
      "outputs": [
        {
          "output_type": "stream",
          "name": "stdout",
          "text": [
            "sales data: [131 181 231 281 331]\n",
            "tax amount on sales: [ 7.86 10.86 13.86 16.86 19.86]\n",
            "discounted sales [124.45 171.95 207.9  252.9  297.9 ]\n",
            "[[131.   181.   231.   281.   331.  ]\n",
            " [133.62 184.62 235.62 286.62 337.62]\n",
            " [136.24 188.24 240.24 292.24 344.24]]\n"
          ]
        }
      ]
    },
    {
      "cell_type": "code",
      "source": [
        "import matplotlib.pyplot as plt\n",
        "x=np.linspace(-10,10,100)\n",
        "y1=x**2\n",
        "y2=np.sin(x)\n",
        "y3=np.exp(x)\n",
        "y4=np.log(np.abs(x)+1)\n",
        "#plt.plot(x,y1 ,linestyle='-',color='b')\n",
        "#plt.plot(x,y2,linestyle='--',color='r')\n",
        "#plt.plot(x,y3,linestyle='-.',color='g')\n",
        "plt.plot(x,y4,linestyle=':',color='m')\n",
        "#plt.show()\n",
        "plt.xlabel('X values')\n",
        "plt.ylabel('Y values')\n",
        "plt.title('Graphs of Different Functions')\n",
        "plt.legend()  # Show legend\n",
        "plt.grid(True)"
      ],
      "metadata": {
        "colab": {
          "base_uri": "https://localhost:8080/",
          "height": 527
        },
        "id": "A8a2kcTApDzo",
        "outputId": "3d850f5e-b5b2-46cc-aa1a-2e48d037bd19"
      },
      "execution_count": 12,
      "outputs": [
        {
          "output_type": "stream",
          "name": "stderr",
          "text": [
            "<ipython-input-12-f5a0b99f8dd8>:15: UserWarning: No artists with labels found to put in legend.  Note that artists whose label start with an underscore are ignored when legend() is called with no argument.\n",
            "  plt.legend()  # Show legend\n"
          ]
        },
        {
          "output_type": "display_data",
          "data": {
            "text/plain": [
              "<Figure size 640x480 with 1 Axes>"
            ],
            "image/png": "[encoded data removed]"
          },
          "metadata": {}
        }
      ]
    }
  ]
}