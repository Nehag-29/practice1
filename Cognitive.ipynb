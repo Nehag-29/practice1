{
  "nbformat": 4,
  "nbformat_minor": 0,
  "metadata": {
    "colab": {
      "provenance": [],
      "authorship_tag": "ABX9TyOIDWqxTXNSCGeuiuOMRndy",
      "include_colab_link": true
    },
    "kernelspec": {
      "name": "python3",
      "display_name": "Python 3"
    },
    "language_info": {
      "name": "python"
    }
  },
  "cells": [
    {
      "cell_type": "markdown",
      "metadata": {
        "id": "view-in-github",
        "colab_type": "text"
      },
      "source": [
        "<a href=\"https://colab.research.google.com/github/Nehag-29/practice1/blob/main/Cognitive.ipynb\" target=\"_parent\"><img src=\"https://colab.research.google.com/assets/colab-badge.svg\" alt=\"Open In Colab\"/></a>"
      ]
    },
    {
      "cell_type": "code",
      "execution_count": 1,
      "metadata": {
        "colab": {
          "base_uri": "https://localhost:8080/"
        },
        "id": "WgNFSnLInbMn",
        "outputId": "a0ac810f-90bb-4279-a602-5d18d3525a3b"
      },
      "outputs": [
        {
          "output_type": "stream",
          "name": "stdout",
          "text": [
            "Neha\n",
            "Neha\n",
            "Neha\n"
          ]
        }
      ],
      "source": [
        "print(\"Neha\")\n",
        "print(\"Neha\")\n",
        "print(\"Neha\")"
      ]
    },
    {
      "cell_type": "code",
      "source": [
        "a=5\n",
        "b=10\n",
        "c=15\n",
        "d=a+b+c\n",
        "print(d)"
      ],
      "metadata": {
        "colab": {
          "base_uri": "https://localhost:8080/"
        },
        "id": "aXHC1BYLoAg3",
        "outputId": "5d4096c6-804f-4532-fc77-8b6d90d26aac"
      },
      "execution_count": 3,
      "outputs": [
        {
          "output_type": "stream",
          "name": "stdout",
          "text": [
            "30\n"
          ]
        }
      ]
    },
    {
      "cell_type": "markdown",
      "source": [],
      "metadata": {
        "id": "Q4xjvTmVo-Sc"
      }
    },
    {
      "cell_type": "code",
      "source": [
        "a=\"Neha\"\n",
        "b=\"Garg\"\n",
        "c=\"Nidhi\"\n",
        "d=a+b+c\n",
        "print(d)"
      ],
      "metadata": {
        "colab": {
          "base_uri": "https://localhost:8080/"
        },
        "id": "x7MnPu-Co_dm",
        "outputId": "70755aa2-0d2c-4134-810b-8d7d62b09fa1"
      },
      "execution_count": 4,
      "outputs": [
        {
          "output_type": "stream",
          "name": "stdout",
          "text": [
            "NehaGargNidhi\n"
          ]
        }
      ]
    },
    {
      "cell_type": "code",
      "source": [
        "print(\"Table of 5 is:\")\n",
        "for i in range(1,11):\n",
        "  print(5,\"*\",i,\"=\",5*i)\n",
        "print(\"table of 7 is:\")\n",
        "for i in range(1,11):\n",
        "  print(7,\"*\",i,\"=\",7*i)\n"
      ],
      "metadata": {
        "colab": {
          "base_uri": "https://localhost:8080/"
        },
        "id": "bMn_K1w8pOTq",
        "outputId": "1a4113c1-67f1-4d4b-f7cb-772446872ecf"
      },
      "execution_count": 6,
      "outputs": [
        {
          "output_type": "stream",
          "name": "stdout",
          "text": [
            "Table of 5 is:\n",
            "5 * 1 = 5\n",
            "5 * 2 = 10\n",
            "5 * 3 = 15\n",
            "5 * 4 = 20\n",
            "5 * 5 = 25\n",
            "5 * 6 = 30\n",
            "5 * 7 = 35\n",
            "5 * 8 = 40\n",
            "5 * 9 = 45\n",
            "5 * 10 = 50\n",
            "table of 7 is:\n",
            "7 * 1 = 7\n",
            "7 * 2 = 14\n",
            "7 * 3 = 21\n",
            "7 * 4 = 28\n",
            "7 * 5 = 35\n",
            "7 * 6 = 42\n",
            "7 * 7 = 49\n",
            "7 * 8 = 56\n",
            "7 * 9 = 63\n",
            "7 * 10 = 70\n"
          ]
        }
      ]
    },
    {
      "cell_type": "code",
      "source": [
        "n=int(input(\"enter number\"))\n",
        "for i in range(1,11):\n",
        "  print(n,\"*\",i,\"=\",n*i)"
      ],
      "metadata": {
        "colab": {
          "base_uri": "https://localhost:8080/"
        },
        "id": "xSR6rMRUqZ6-",
        "outputId": "94a93b61-d835-43cb-8a2e-7570d11cc320"
      },
      "execution_count": 7,
      "outputs": [
        {
          "output_type": "stream",
          "name": "stdout",
          "text": [
            "enter number5\n",
            "5 * 1 = 5\n",
            "5 * 2 = 10\n",
            "5 * 3 = 15\n",
            "5 * 4 = 20\n",
            "5 * 5 = 25\n",
            "5 * 6 = 30\n",
            "5 * 7 = 35\n",
            "5 * 8 = 40\n",
            "5 * 9 = 45\n",
            "5 * 10 = 50\n"
          ]
        }
      ]
    },
    {
      "cell_type": "code",
      "source": [
        "n=int(input(\"enter number\"))\n",
        "sum=0\n",
        "for i in range(1,n+1):\n",
        "  sum=sum+i\n",
        "print(\"sum:\",sum)"
      ],
      "metadata": {
        "colab": {
          "base_uri": "https://localhost:8080/"
        },
        "id": "C4DxrTV9q2ce",
        "outputId": "934b7a2f-0f18-4e4e-ed84-4a8b4b31791a"
      },
      "execution_count": 8,
      "outputs": [
        {
          "output_type": "stream",
          "name": "stdout",
          "text": [
            "enter number3\n",
            "sum: 6\n"
          ]
        }
      ]
    },
    {
      "cell_type": "code",
      "source": [
        "num1=int(input(\"enter number\"))\n",
        "num2=int(input(\"enter number\"))\n",
        "num3=int(input(\"enter number\"))\n",
        "max_num=max(num1,num2,num3)\n",
        "print(\"max is:\",max_num)"
      ],
      "metadata": {
        "colab": {
          "base_uri": "https://localhost:8080/"
        },
        "id": "mMCfCORNrKag",
        "outputId": "5122b0ac-086f-46f0-de65-e045c2b09f9a"
      },
      "execution_count": 9,
      "outputs": [
        {
          "output_type": "stream",
          "name": "stdout",
          "text": [
            "enter number3\n",
            "enter number4\n",
            "enter number6\n",
            "6\n"
          ]
        }
      ]
    },
    {
      "cell_type": "code",
      "source": [
        "n=int(input(\"enter number\"))\n",
        "sum=0\n",
        "for i in range(1,n+1):\n",
        "  if (9%i)==0:\n",
        "    sum=sum+i\n",
        "  if (7%i)==0:\n",
        "    sum=sum+i\n",
        "print(\"sum is:\",sum)"
      ],
      "metadata": {
        "colab": {
          "base_uri": "https://localhost:8080/"
        },
        "id": "9gzQzL7WrgpU",
        "outputId": "fbcaf0f3-d6c6-45e5-e4da-7513ada90892"
      },
      "execution_count": 10,
      "outputs": [
        {
          "output_type": "stream",
          "name": "stdout",
          "text": [
            "enter number9\n",
            "sum is: 21\n"
          ]
        }
      ]
    },
    {
      "cell_type": "code",
      "source": [
        "n=int(input(\"enter number\"))\n",
        "def odd(n):\n",
        "  sum=0\n",
        "  for i in range(1,n+1):\n",
        "    if (i%2)!=0:\n",
        "      sum=sum+i\n",
        "  return sum\n",
        "print(\"sum of odd numbers are:\",odd(n))"
      ],
      "metadata": {
        "colab": {
          "base_uri": "https://localhost:8080/"
        },
        "id": "SzR7bdEesiEc",
        "outputId": "81411f0b-2c12-4169-fb8a-e4c1c8bb18c8"
      },
      "execution_count": 11,
      "outputs": [
        {
          "output_type": "stream",
          "name": "stdout",
          "text": [
            "enter number5\n",
            "sum of odd numbers are: 9\n"
          ]
        }
      ]
    },
    {
      "cell_type": "code",
      "source": [
        "\n",
        "n = int(input(\"Enter a number:\"))\n",
        "\n",
        "# Function to check if a number is prime\n",
        "def is_prime(i):\n",
        "    if i < 2:\n",
        "        return False  # Numbers less than 2 are not prime\n",
        "    for j in range(2, int(i ** 0.5) + 1):  # Check divisors up to sqrt(i)\n",
        "        if i % j == 0:\n",
        "            return False\n",
        "    return True\n",
        "\n",
        "# Calculate the sum of prime numbers up to n\n",
        "prime_sum = 0\n",
        "for i in range(1, n + 1):\n",
        "    if is_prime(i):\n",
        "        prime_sum += i\n",
        "\n",
        "print(\"Sum of prime numbers up to\", n, \"is:\", prime_sum)\n",
        "\n",
        ""
      ],
      "metadata": {
        "colab": {
          "base_uri": "https://localhost:8080/"
        },
        "id": "q6cRWkpjt_Ov",
        "outputId": "876ca382-2633-4244-fe2e-417f92078086"
      },
      "execution_count": 19,
      "outputs": [
        {
          "output_type": "stream",
          "name": "stdout",
          "text": [
            "Enter a number: 5\n",
            "Sum of prime numbers up to 5 is: 10\n"
          ]
        }
      ]
    }
  ]
}