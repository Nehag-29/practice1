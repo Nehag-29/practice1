{
  "nbformat": 4,
  "nbformat_minor": 0,
  "metadata": {
    "colab": {
      "provenance": [],
      "authorship_tag": "ABX9TyNgJKOdCRlpz7BlxTOpZgut",
      "include_colab_link": true
    },
    "kernelspec": {
      "name": "python3",
      "display_name": "Python 3"
    },
    "language_info": {
      "name": "python"
    }
  },
  "cells": [
    {
      "cell_type": "markdown",
      "metadata": {
        "id": "view-in-github",
        "colab_type": "text"
      },
      "source": [
        "<a href=\"https://colab.research.google.com/github/Nehag-29/practice1/blob/main/ass_4.ipynb\" target=\"_parent\"><img src=\"https://colab.research.google.com/assets/colab-badge.svg\" alt=\"Open In Colab\"/></a>"
      ]
    },
    {
      "cell_type": "code",
      "execution_count": 2,
      "metadata": {
        "colab": {
          "base_uri": "https://localhost:8080/"
        },
        "id": "Cu86C7lQO40_",
        "outputId": "b42b7f59-9c02-4951-a524-8d2e66e4408b"
      },
      "outputs": [
        {
          "output_type": "stream",
          "name": "stdout",
          "text": [
            "[12 22 32 42 42]\n",
            "[ 30  60  90 120 120]\n",
            "[ 5. 10. 15. 20. 20.]\n"
          ]
        }
      ],
      "source": [
        "import numpy as np\n",
        "array_1d=np.array([10,20,30,40,40])\n",
        "added_array=array_1d+2\n",
        "mul_array=array_1d*3\n",
        "div_array=array_1d / 2\n",
        "print(added_array)\n",
        "print(mul_array)\n",
        "print(div_array)"
      ]
    },
    {
      "cell_type": "code",
      "source": [
        "arr = np.array([1, 2, 3, 6, 4, 5])\n",
        "rev_array=np.flip(arr)\n",
        "print(rev_array)\n",
        "x = np.array([1,2,3,4,5,1,2,1,1,1])"
      ],
      "metadata": {
        "colab": {
          "base_uri": "https://localhost:8080/"
        },
        "id": "G8zNHvF4QAv7",
        "outputId": "c4bcb95e-ade1-4b66-f15c-bd1f4577be22"
      },
      "execution_count": 3,
      "outputs": [
        {
          "output_type": "stream",
          "name": "stdout",
          "text": [
            "[5 4 6 3 2 1]\n"
          ]
        }
      ]
    },
    {
      "cell_type": "code",
      "source": [
        "x = np.array([1, 2, 3, 4, 5, 1, 2, 1, 1, 1])\n",
        "y = np.array([1, 1, 1, 2, 3, 4, 2, 4, 3, 3])\n",
        "def most_frequent_value_and_indices(arr):\n",
        "  values,counts=np.unique(arr,return_counts=True)\n",
        "  most_frequent_value=values[np.argmax(counts)]\n",
        "  indices=np.where(arr==most_frequent_value)[0]\n",
        "  return most_frequent_value,indices\n",
        "x_value,x_indices=most_frequent_value_and_indices(x)\n",
        "y_value,y_indices=most_frequent_value_and_indices(y)\n",
        "print(x_value,\" \",x_indices)\n",
        "print(y_value,\" \",y_indices)"
      ],
      "metadata": {
        "colab": {
          "base_uri": "https://localhost:8080/"
        },
        "id": "UqqMj-ABSmft",
        "outputId": "e3a26442-e024-4461-d9b4-174045826da4"
      },
      "execution_count": 4,
      "outputs": [
        {
          "output_type": "stream",
          "name": "stdout",
          "text": [
            "1   [0 5 7 8 9]\n",
            "1   [0 1 2]\n"
          ]
        }
      ]
    },
    {
      "cell_type": "code",
      "source": [
        " import numpy as np\n",
        " your_name=np.linspace(10,100,25)\n",
        " print(\"array\",your_name)\n",
        " print(\"dimensions:\",your_name.ndim)\n",
        " print(\"shape\",your_name.shape)\n",
        " print(\"total elements\",your_name.size)\n",
        " print(\"data type\",your_name.dtype)\n",
        " print(\"total bytes\",your_name.nbytes)\n",
        " transpose_reshape=your_name.reshape(-1,1)\n",
        " print(\"transpose using reshape:\",transpose_reshape)\n",
        " transpose_T=your_name.T\n",
        " print(\"\\nTranspose using T attribute:\", transpose_T)"
      ],
      "metadata": {
        "colab": {
          "base_uri": "https://localhost:8080/"
        },
        "id": "lLP2e1kR0kjo",
        "outputId": "69699bb5-5503-4562-8156-80f2b517926b"
      },
      "execution_count": 3,
      "outputs": [
        {
          "output_type": "stream",
          "name": "stdout",
          "text": [
            "array [ 10.    13.75  17.5   21.25  25.    28.75  32.5   36.25  40.    43.75\n",
            "  47.5   51.25  55.    58.75  62.5   66.25  70.    73.75  77.5   81.25\n",
            "  85.    88.75  92.5   96.25 100.  ]\n",
            "dimensions: 1\n",
            "shape (25,)\n",
            "total elements 25\n",
            "data type float64\n",
            "total bytes 200\n",
            "transpose using reshape: [[ 10.  ]\n",
            " [ 13.75]\n",
            " [ 17.5 ]\n",
            " [ 21.25]\n",
            " [ 25.  ]\n",
            " [ 28.75]\n",
            " [ 32.5 ]\n",
            " [ 36.25]\n",
            " [ 40.  ]\n",
            " [ 43.75]\n",
            " [ 47.5 ]\n",
            " [ 51.25]\n",
            " [ 55.  ]\n",
            " [ 58.75]\n",
            " [ 62.5 ]\n",
            " [ 66.25]\n",
            " [ 70.  ]\n",
            " [ 73.75]\n",
            " [ 77.5 ]\n",
            " [ 81.25]\n",
            " [ 85.  ]\n",
            " [ 88.75]\n",
            " [ 92.5 ]\n",
            " [ 96.25]\n",
            " [100.  ]]\n",
            "\n",
            "Transpose using T attribute: [ 10.    13.75  17.5   21.25  25.    28.75  32.5   36.25  40.    43.75\n",
            "  47.5   51.25  55.    58.75  62.5   66.25  70.    73.75  77.5   81.25\n",
            "  85.    88.75  92.5   96.25 100.  ]\n"
          ]
        }
      ]
    },
    {
      "cell_type": "code",
      "source": [
        "import numpy as np\n",
        "ucs420_yourname=np.array([[10,20,30,40],[50,60,70,80],[90,15,20,35]])\n",
        "mean_value=np.mean(ucs420_yourname)\n",
        "median_value=np.median(ucs420_yourname)\n",
        "max_value=np.max(ucs420_yourname)\n",
        "min_value=np.min(ucs420_yourname)\n",
        "unique_elements=np.unique(ucs420_yourname)\n",
        "print(\"Mean:\",mean_value)\n",
        "print(\"Median:\",median_value)\n",
        "print(\"Max value\",max_value)\n",
        "print(\"min_value\",min_value)\n",
        "print(\"unique elements\",unique_elements)\n",
        "reshape_ucs420_yourname=ucs420_yourname.reshape(4,3)\n",
        "print(\"reshaped array:\",reshape_ucs420_yourname)\n",
        "resized_ucs420_yourname=np.resize(ucs420_yourname,(2,3))\n",
        "print(\"resized array is:\",resized_ucs420_yourname)"
      ],
      "metadata": {
        "colab": {
          "base_uri": "https://localhost:8080/"
        },
        "id": "d3vTPh1o4wpA",
        "outputId": "2a8d7fa2-170d-474d-8ca6-02f12cd001fa"
      },
      "execution_count": 4,
      "outputs": [
        {
          "output_type": "stream",
          "name": "stdout",
          "text": [
            "Mean: 43.333333333333336\n",
            "Median: 37.5\n",
            "Max value 90\n",
            "min_value 10\n",
            "unique elements [10 15 20 30 35 40 50 60 70 80 90]\n",
            "reshaped array: [[10 20 30]\n",
            " [40 50 60]\n",
            " [70 80 90]\n",
            " [15 20 35]]\n",
            "resized array is: [[10 20 30]\n",
            " [40 50 60]]\n"
          ]
        }
      ]
    }
  ]
}